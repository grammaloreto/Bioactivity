{
  "nbformat": 4,
  "nbformat_minor": 0,
  "metadata": {
    "colab": {
      "name": "PSMB5_IC50_to_pIC50.ipynb",
      "provenance": []
    },
    "kernelspec": {
      "name": "python3",
      "display_name": "Python 3"
    },
    "language_info": {
      "name": "python"
    }
  },
  "cells": [
    {
      "cell_type": "code",
      "metadata": {
        "id": "xzyzbEPwfzLu"
      },
      "source": [
        "import numpy as np\n",
        "import pandas as pd"
      ],
      "execution_count": null,
      "outputs": []
    },
    {
      "cell_type": "code",
      "metadata": {
        "id": "tEjq0t2agwXm"
      },
      "source": [
        "# load data\n",
        "df = pd.read_csv(\"psmb5_class_bioactivity.csv\")"
      ],
      "execution_count": null,
      "outputs": []
    },
    {
      "cell_type": "code",
      "metadata": {
        "colab": {
          "base_uri": "https://localhost:8080/",
          "height": 424
        },
        "id": "MLbRgVkRhrtU",
        "outputId": "f9cc4c82-42e8-4626-c7c9-9ed50be92a52"
      },
      "source": [
        "df"
      ],
      "execution_count": null,
      "outputs": [
        {
          "output_type": "execute_result",
          "data": {
            "text/html": [
              "<div>\n",
              "<style scoped>\n",
              "    .dataframe tbody tr th:only-of-type {\n",
              "        vertical-align: middle;\n",
              "    }\n",
              "\n",
              "    .dataframe tbody tr th {\n",
              "        vertical-align: top;\n",
              "    }\n",
              "\n",
              "    .dataframe thead th {\n",
              "        text-align: right;\n",
              "    }\n",
              "</style>\n",
              "<table border=\"1\" class=\"dataframe\">\n",
              "  <thead>\n",
              "    <tr style=\"text-align: right;\">\n",
              "      <th></th>\n",
              "      <th>molecule_chembl_id</th>\n",
              "      <th>canonical_smiles</th>\n",
              "      <th>standard_value</th>\n",
              "      <th>class</th>\n",
              "    </tr>\n",
              "  </thead>\n",
              "  <tbody>\n",
              "    <tr>\n",
              "      <th>0</th>\n",
              "      <td>CHEMBL381735</td>\n",
              "      <td>CC[C@H](C)[C@H](NC(=O)OCc1ccccc1)C(=O)N[C@@H](...</td>\n",
              "      <td>2.4</td>\n",
              "      <td>active</td>\n",
              "    </tr>\n",
              "    <tr>\n",
              "      <th>1</th>\n",
              "      <td>CHEMBL207670</td>\n",
              "      <td>CC[C@H](C)[C@H](NC(=O)OCc1ccccc1)C(=O)N1CCC[C@...</td>\n",
              "      <td>150000.0</td>\n",
              "      <td>inactive</td>\n",
              "    </tr>\n",
              "    <tr>\n",
              "      <th>2</th>\n",
              "      <td>CHEMBL383529</td>\n",
              "      <td>CC(=O)N[C@@H](CCC(=O)OC(C)(C)C)C(=O)N[C@@H](C)...</td>\n",
              "      <td>260.0</td>\n",
              "      <td>active</td>\n",
              "    </tr>\n",
              "    <tr>\n",
              "      <th>3</th>\n",
              "      <td>CHEMBL207336</td>\n",
              "      <td>CC(C)C[C@@H](/C=C/S(C)(=O)=O)NC(=O)[C@H](C)NC(...</td>\n",
              "      <td>17.0</td>\n",
              "      <td>active</td>\n",
              "    </tr>\n",
              "    <tr>\n",
              "      <th>4</th>\n",
              "      <td>CHEMBL208015</td>\n",
              "      <td>CC(C)C[C@@H](/C=C/S(C)(=O)=O)NC(=O)[C@H](C)NC(...</td>\n",
              "      <td>6.1</td>\n",
              "      <td>active</td>\n",
              "    </tr>\n",
              "    <tr>\n",
              "      <th>...</th>\n",
              "      <td>...</td>\n",
              "      <td>...</td>\n",
              "      <td>...</td>\n",
              "      <td>...</td>\n",
              "    </tr>\n",
              "    <tr>\n",
              "      <th>813</th>\n",
              "      <td>CHEMBL4519899</td>\n",
              "      <td>CC(C)C[C@H](NC(=O)[C@H](Cc1ccccc1)NC(=O)[C@H](...</td>\n",
              "      <td>3.0</td>\n",
              "      <td>active</td>\n",
              "    </tr>\n",
              "    <tr>\n",
              "      <th>814</th>\n",
              "      <td>CHEMBL4555159</td>\n",
              "      <td>CC(C)C[C@H](NC(=O)[C@H](Cc1ccccc1)NC(=O)[C@@H]...</td>\n",
              "      <td>10.0</td>\n",
              "      <td>active</td>\n",
              "    </tr>\n",
              "    <tr>\n",
              "      <th>815</th>\n",
              "      <td>CHEMBL4646371</td>\n",
              "      <td>CC(=O)NCC(=O)N1CCC[C@H]1C(=O)N[C@@H](Cc1ccccc1...</td>\n",
              "      <td>10000.0</td>\n",
              "      <td>inactive</td>\n",
              "    </tr>\n",
              "    <tr>\n",
              "      <th>816</th>\n",
              "      <td>CHEMBL4649310</td>\n",
              "      <td>CC(C)C[C@H](NC(=O)[C@H](Cc1ccccc1)NC(=O)[C@@H]...</td>\n",
              "      <td>10000.0</td>\n",
              "      <td>inactive</td>\n",
              "    </tr>\n",
              "    <tr>\n",
              "      <th>817</th>\n",
              "      <td>CHEMBL4635132</td>\n",
              "      <td>CC(=O)NCC(=O)N1CCC[C@H]1C(=O)N[C@@H](Cc1ccccc1...</td>\n",
              "      <td>10000.0</td>\n",
              "      <td>inactive</td>\n",
              "    </tr>\n",
              "  </tbody>\n",
              "</table>\n",
              "<p>818 rows × 4 columns</p>\n",
              "</div>"
            ],
            "text/plain": [
              "    molecule_chembl_id  ...     class\n",
              "0         CHEMBL381735  ...    active\n",
              "1         CHEMBL207670  ...  inactive\n",
              "2         CHEMBL383529  ...    active\n",
              "3         CHEMBL207336  ...    active\n",
              "4         CHEMBL208015  ...    active\n",
              "..                 ...  ...       ...\n",
              "813      CHEMBL4519899  ...    active\n",
              "814      CHEMBL4555159  ...    active\n",
              "815      CHEMBL4646371  ...  inactive\n",
              "816      CHEMBL4649310  ...  inactive\n",
              "817      CHEMBL4635132  ...  inactive\n",
              "\n",
              "[818 rows x 4 columns]"
            ]
          },
          "metadata": {},
          "execution_count": 16
        }
      ]
    },
    {
      "cell_type": "code",
      "metadata": {
        "id": "pplmUjDmh0TK"
      },
      "source": [
        "# data preparation to transform IC50 standard values\n",
        "df_no_smiles = df.drop(columns='canonical_smiles')"
      ],
      "execution_count": null,
      "outputs": []
    },
    {
      "cell_type": "code",
      "metadata": {
        "id": "vTYvzoHgiByg"
      },
      "source": [
        "smiles = []\n",
        "\n",
        "for i in df.canonical_smiles.tolist():\n",
        "  cpd = str(i).split('.')\n",
        "  cpd_longest = max(cpd, key = len)\n",
        "  smiles.append(cpd_longest)\n",
        "\n",
        "smiles = pd.Series(smiles, name = 'canonical_smiles')"
      ],
      "execution_count": null,
      "outputs": []
    },
    {
      "cell_type": "code",
      "metadata": {
        "colab": {
          "base_uri": "https://localhost:8080/",
          "height": 424
        },
        "id": "Bnbm0Q-liKE8",
        "outputId": "140d1cab-a155-4a03-acdb-b948370a1c2a"
      },
      "source": [
        "# clean chemical structure (smiles notation)\n",
        "df_clean_smiles = pd.concat([df_no_smiles,smiles], axis=1)\n",
        "df_clean_smiles"
      ],
      "execution_count": null,
      "outputs": [
        {
          "output_type": "execute_result",
          "data": {
            "text/html": [
              "<div>\n",
              "<style scoped>\n",
              "    .dataframe tbody tr th:only-of-type {\n",
              "        vertical-align: middle;\n",
              "    }\n",
              "\n",
              "    .dataframe tbody tr th {\n",
              "        vertical-align: top;\n",
              "    }\n",
              "\n",
              "    .dataframe thead th {\n",
              "        text-align: right;\n",
              "    }\n",
              "</style>\n",
              "<table border=\"1\" class=\"dataframe\">\n",
              "  <thead>\n",
              "    <tr style=\"text-align: right;\">\n",
              "      <th></th>\n",
              "      <th>molecule_chembl_id</th>\n",
              "      <th>standard_value</th>\n",
              "      <th>class</th>\n",
              "      <th>canonical_smiles</th>\n",
              "    </tr>\n",
              "  </thead>\n",
              "  <tbody>\n",
              "    <tr>\n",
              "      <th>0</th>\n",
              "      <td>CHEMBL381735</td>\n",
              "      <td>2.4</td>\n",
              "      <td>active</td>\n",
              "      <td>CC[C@H](C)[C@H](NC(=O)OCc1ccccc1)C(=O)N[C@@H](...</td>\n",
              "    </tr>\n",
              "    <tr>\n",
              "      <th>1</th>\n",
              "      <td>CHEMBL207670</td>\n",
              "      <td>150000.0</td>\n",
              "      <td>inactive</td>\n",
              "      <td>CC[C@H](C)[C@H](NC(=O)OCc1ccccc1)C(=O)N1CCC[C@...</td>\n",
              "    </tr>\n",
              "    <tr>\n",
              "      <th>2</th>\n",
              "      <td>CHEMBL383529</td>\n",
              "      <td>260.0</td>\n",
              "      <td>active</td>\n",
              "      <td>CC(=O)N[C@@H](CCC(=O)OC(C)(C)C)C(=O)N[C@@H](C)...</td>\n",
              "    </tr>\n",
              "    <tr>\n",
              "      <th>3</th>\n",
              "      <td>CHEMBL207336</td>\n",
              "      <td>17.0</td>\n",
              "      <td>active</td>\n",
              "      <td>CC(C)C[C@@H](/C=C/S(C)(=O)=O)NC(=O)[C@H](C)NC(...</td>\n",
              "    </tr>\n",
              "    <tr>\n",
              "      <th>4</th>\n",
              "      <td>CHEMBL208015</td>\n",
              "      <td>6.1</td>\n",
              "      <td>active</td>\n",
              "      <td>CC(C)C[C@@H](/C=C/S(C)(=O)=O)NC(=O)[C@H](C)NC(...</td>\n",
              "    </tr>\n",
              "    <tr>\n",
              "      <th>...</th>\n",
              "      <td>...</td>\n",
              "      <td>...</td>\n",
              "      <td>...</td>\n",
              "      <td>...</td>\n",
              "    </tr>\n",
              "    <tr>\n",
              "      <th>813</th>\n",
              "      <td>CHEMBL4519899</td>\n",
              "      <td>3.0</td>\n",
              "      <td>active</td>\n",
              "      <td>CC(C)C[C@H](NC(=O)[C@H](Cc1ccccc1)NC(=O)[C@H](...</td>\n",
              "    </tr>\n",
              "    <tr>\n",
              "      <th>814</th>\n",
              "      <td>CHEMBL4555159</td>\n",
              "      <td>10.0</td>\n",
              "      <td>active</td>\n",
              "      <td>CC(C)C[C@H](NC(=O)[C@H](Cc1ccccc1)NC(=O)[C@@H]...</td>\n",
              "    </tr>\n",
              "    <tr>\n",
              "      <th>815</th>\n",
              "      <td>CHEMBL4646371</td>\n",
              "      <td>10000.0</td>\n",
              "      <td>inactive</td>\n",
              "      <td>CC(=O)NCC(=O)N1CCC[C@H]1C(=O)N[C@@H](Cc1ccccc1...</td>\n",
              "    </tr>\n",
              "    <tr>\n",
              "      <th>816</th>\n",
              "      <td>CHEMBL4649310</td>\n",
              "      <td>10000.0</td>\n",
              "      <td>inactive</td>\n",
              "      <td>CC(C)C[C@H](NC(=O)[C@H](Cc1ccccc1)NC(=O)[C@@H]...</td>\n",
              "    </tr>\n",
              "    <tr>\n",
              "      <th>817</th>\n",
              "      <td>CHEMBL4635132</td>\n",
              "      <td>10000.0</td>\n",
              "      <td>inactive</td>\n",
              "      <td>CC(=O)NCC(=O)N1CCC[C@H]1C(=O)N[C@@H](Cc1ccccc1...</td>\n",
              "    </tr>\n",
              "  </tbody>\n",
              "</table>\n",
              "<p>818 rows × 4 columns</p>\n",
              "</div>"
            ],
            "text/plain": [
              "    molecule_chembl_id  ...                                   canonical_smiles\n",
              "0         CHEMBL381735  ...  CC[C@H](C)[C@H](NC(=O)OCc1ccccc1)C(=O)N[C@@H](...\n",
              "1         CHEMBL207670  ...  CC[C@H](C)[C@H](NC(=O)OCc1ccccc1)C(=O)N1CCC[C@...\n",
              "2         CHEMBL383529  ...  CC(=O)N[C@@H](CCC(=O)OC(C)(C)C)C(=O)N[C@@H](C)...\n",
              "3         CHEMBL207336  ...  CC(C)C[C@@H](/C=C/S(C)(=O)=O)NC(=O)[C@H](C)NC(...\n",
              "4         CHEMBL208015  ...  CC(C)C[C@@H](/C=C/S(C)(=O)=O)NC(=O)[C@H](C)NC(...\n",
              "..                 ...  ...                                                ...\n",
              "813      CHEMBL4519899  ...  CC(C)C[C@H](NC(=O)[C@H](Cc1ccccc1)NC(=O)[C@H](...\n",
              "814      CHEMBL4555159  ...  CC(C)C[C@H](NC(=O)[C@H](Cc1ccccc1)NC(=O)[C@@H]...\n",
              "815      CHEMBL4646371  ...  CC(=O)NCC(=O)N1CCC[C@H]1C(=O)N[C@@H](Cc1ccccc1...\n",
              "816      CHEMBL4649310  ...  CC(C)C[C@H](NC(=O)[C@H](Cc1ccccc1)NC(=O)[C@@H]...\n",
              "817      CHEMBL4635132  ...  CC(=O)NCC(=O)N1CCC[C@H]1C(=O)N[C@@H](Cc1ccccc1...\n",
              "\n",
              "[818 rows x 4 columns]"
            ]
          },
          "metadata": {},
          "execution_count": 19
        }
      ]
    },
    {
      "cell_type": "code",
      "metadata": {
        "id": "fAcaObsLiSmz"
      },
      "source": [
        "# tranformation function\n",
        "\n",
        "def pIC50(input):\n",
        "    pIC50 = []\n",
        "\n",
        "    for i in input['standard_value_norm']:\n",
        "        molar = i*(10**-9) # Converts nM to M\n",
        "        pIC50.append(-np.log10(molar))\n",
        "\n",
        "    input['pIC50'] = pIC50\n",
        "    x = input.drop('standard_value_norm', 1)\n",
        "        \n",
        "    return x"
      ],
      "execution_count": null,
      "outputs": []
    },
    {
      "cell_type": "code",
      "metadata": {
        "colab": {
          "base_uri": "https://localhost:8080/"
        },
        "id": "lYKRR2Pxibmf",
        "outputId": "7a942fc6-98be-46c1-9f39-3007cb21552c"
      },
      "source": [
        "# fixing very high values\n",
        "df.standard_value.describe()"
      ],
      "execution_count": null,
      "outputs": [
        {
          "output_type": "execute_result",
          "data": {
            "text/plain": [
              "count    8.180000e+02\n",
              "mean     2.199089e+04\n",
              "std      2.560980e+05\n",
              "min      2.000000e-04\n",
              "25%      1.700000e+01\n",
              "50%      2.455000e+02\n",
              "75%      5.890250e+03\n",
              "max      7.100000e+06\n",
              "Name: standard_value, dtype: float64"
            ]
          },
          "metadata": {},
          "execution_count": 21
        }
      ]
    },
    {
      "cell_type": "code",
      "metadata": {
        "id": "UcLE9wqSinHC",
        "colab": {
          "base_uri": "https://localhost:8080/"
        },
        "outputId": "10b9af59-f980-4c2c-d86e-3c2ff8b0041b"
      },
      "source": [
        "-np.log10( (10**-9)* 100000000 )"
      ],
      "execution_count": null,
      "outputs": [
        {
          "output_type": "execute_result",
          "data": {
            "text/plain": [
              "1.0"
            ]
          },
          "metadata": {},
          "execution_count": 22
        }
      ]
    },
    {
      "cell_type": "code",
      "metadata": {
        "colab": {
          "base_uri": "https://localhost:8080/"
        },
        "id": "9FCpeNbukVnW",
        "outputId": "973b0ce8-9f6f-4c9d-d6a6-1a04e9aba294"
      },
      "source": [
        "-np.log10( (10**-9)* 10000000000 )"
      ],
      "execution_count": null,
      "outputs": [
        {
          "output_type": "execute_result",
          "data": {
            "text/plain": [
              "-1.0"
            ]
          },
          "metadata": {},
          "execution_count": 23
        }
      ]
    },
    {
      "cell_type": "code",
      "metadata": {
        "id": "pLZiA9_FkZ4Q"
      },
      "source": [
        "# Function to normalize values\n",
        "def norm_value(input):\n",
        "    norm = []\n",
        "\n",
        "    for i in input['standard_value']:\n",
        "        if i > 100000000:\n",
        "          i = 100000000\n",
        "        norm.append(i)\n",
        "\n",
        "    input['standard_value_norm'] = norm\n",
        "    x = input.drop('standard_value', 1)\n",
        "        \n",
        "    return x"
      ],
      "execution_count": null,
      "outputs": []
    },
    {
      "cell_type": "code",
      "metadata": {
        "colab": {
          "base_uri": "https://localhost:8080/",
          "height": 424
        },
        "id": "l9aziHJOkeWX",
        "outputId": "60fd8b9c-646d-4167-f991-20e2584329e9"
      },
      "source": [
        "df_norm = norm_value(df)\n",
        "df_norm"
      ],
      "execution_count": null,
      "outputs": [
        {
          "output_type": "execute_result",
          "data": {
            "text/html": [
              "<div>\n",
              "<style scoped>\n",
              "    .dataframe tbody tr th:only-of-type {\n",
              "        vertical-align: middle;\n",
              "    }\n",
              "\n",
              "    .dataframe tbody tr th {\n",
              "        vertical-align: top;\n",
              "    }\n",
              "\n",
              "    .dataframe thead th {\n",
              "        text-align: right;\n",
              "    }\n",
              "</style>\n",
              "<table border=\"1\" class=\"dataframe\">\n",
              "  <thead>\n",
              "    <tr style=\"text-align: right;\">\n",
              "      <th></th>\n",
              "      <th>molecule_chembl_id</th>\n",
              "      <th>canonical_smiles</th>\n",
              "      <th>class</th>\n",
              "      <th>standard_value_norm</th>\n",
              "    </tr>\n",
              "  </thead>\n",
              "  <tbody>\n",
              "    <tr>\n",
              "      <th>0</th>\n",
              "      <td>CHEMBL381735</td>\n",
              "      <td>CC[C@H](C)[C@H](NC(=O)OCc1ccccc1)C(=O)N[C@@H](...</td>\n",
              "      <td>active</td>\n",
              "      <td>2.4</td>\n",
              "    </tr>\n",
              "    <tr>\n",
              "      <th>1</th>\n",
              "      <td>CHEMBL207670</td>\n",
              "      <td>CC[C@H](C)[C@H](NC(=O)OCc1ccccc1)C(=O)N1CCC[C@...</td>\n",
              "      <td>inactive</td>\n",
              "      <td>150000.0</td>\n",
              "    </tr>\n",
              "    <tr>\n",
              "      <th>2</th>\n",
              "      <td>CHEMBL383529</td>\n",
              "      <td>CC(=O)N[C@@H](CCC(=O)OC(C)(C)C)C(=O)N[C@@H](C)...</td>\n",
              "      <td>active</td>\n",
              "      <td>260.0</td>\n",
              "    </tr>\n",
              "    <tr>\n",
              "      <th>3</th>\n",
              "      <td>CHEMBL207336</td>\n",
              "      <td>CC(C)C[C@@H](/C=C/S(C)(=O)=O)NC(=O)[C@H](C)NC(...</td>\n",
              "      <td>active</td>\n",
              "      <td>17.0</td>\n",
              "    </tr>\n",
              "    <tr>\n",
              "      <th>4</th>\n",
              "      <td>CHEMBL208015</td>\n",
              "      <td>CC(C)C[C@@H](/C=C/S(C)(=O)=O)NC(=O)[C@H](C)NC(...</td>\n",
              "      <td>active</td>\n",
              "      <td>6.1</td>\n",
              "    </tr>\n",
              "    <tr>\n",
              "      <th>...</th>\n",
              "      <td>...</td>\n",
              "      <td>...</td>\n",
              "      <td>...</td>\n",
              "      <td>...</td>\n",
              "    </tr>\n",
              "    <tr>\n",
              "      <th>813</th>\n",
              "      <td>CHEMBL4519899</td>\n",
              "      <td>CC(C)C[C@H](NC(=O)[C@H](Cc1ccccc1)NC(=O)[C@H](...</td>\n",
              "      <td>active</td>\n",
              "      <td>3.0</td>\n",
              "    </tr>\n",
              "    <tr>\n",
              "      <th>814</th>\n",
              "      <td>CHEMBL4555159</td>\n",
              "      <td>CC(C)C[C@H](NC(=O)[C@H](Cc1ccccc1)NC(=O)[C@@H]...</td>\n",
              "      <td>active</td>\n",
              "      <td>10.0</td>\n",
              "    </tr>\n",
              "    <tr>\n",
              "      <th>815</th>\n",
              "      <td>CHEMBL4646371</td>\n",
              "      <td>CC(=O)NCC(=O)N1CCC[C@H]1C(=O)N[C@@H](Cc1ccccc1...</td>\n",
              "      <td>inactive</td>\n",
              "      <td>10000.0</td>\n",
              "    </tr>\n",
              "    <tr>\n",
              "      <th>816</th>\n",
              "      <td>CHEMBL4649310</td>\n",
              "      <td>CC(C)C[C@H](NC(=O)[C@H](Cc1ccccc1)NC(=O)[C@@H]...</td>\n",
              "      <td>inactive</td>\n",
              "      <td>10000.0</td>\n",
              "    </tr>\n",
              "    <tr>\n",
              "      <th>817</th>\n",
              "      <td>CHEMBL4635132</td>\n",
              "      <td>CC(=O)NCC(=O)N1CCC[C@H]1C(=O)N[C@@H](Cc1ccccc1...</td>\n",
              "      <td>inactive</td>\n",
              "      <td>10000.0</td>\n",
              "    </tr>\n",
              "  </tbody>\n",
              "</table>\n",
              "<p>818 rows × 4 columns</p>\n",
              "</div>"
            ],
            "text/plain": [
              "    molecule_chembl_id  ... standard_value_norm\n",
              "0         CHEMBL381735  ...                 2.4\n",
              "1         CHEMBL207670  ...            150000.0\n",
              "2         CHEMBL383529  ...               260.0\n",
              "3         CHEMBL207336  ...                17.0\n",
              "4         CHEMBL208015  ...                 6.1\n",
              "..                 ...  ...                 ...\n",
              "813      CHEMBL4519899  ...                 3.0\n",
              "814      CHEMBL4555159  ...                10.0\n",
              "815      CHEMBL4646371  ...             10000.0\n",
              "816      CHEMBL4649310  ...             10000.0\n",
              "817      CHEMBL4635132  ...             10000.0\n",
              "\n",
              "[818 rows x 4 columns]"
            ]
          },
          "metadata": {},
          "execution_count": 25
        }
      ]
    },
    {
      "cell_type": "code",
      "metadata": {
        "colab": {
          "base_uri": "https://localhost:8080/"
        },
        "id": "uV6XpGC-koUy",
        "outputId": "8eb4c02f-6d4d-477e-f624-0d94da4b8bc7"
      },
      "source": [
        "df_norm.standard_value_norm.describe()"
      ],
      "execution_count": null,
      "outputs": [
        {
          "output_type": "execute_result",
          "data": {
            "text/plain": [
              "count    8.180000e+02\n",
              "mean     2.199089e+04\n",
              "std      2.560980e+05\n",
              "min      2.000000e-04\n",
              "25%      1.700000e+01\n",
              "50%      2.455000e+02\n",
              "75%      5.890250e+03\n",
              "max      7.100000e+06\n",
              "Name: standard_value_norm, dtype: float64"
            ]
          },
          "metadata": {},
          "execution_count": 26
        }
      ]
    },
    {
      "cell_type": "code",
      "metadata": {
        "colab": {
          "base_uri": "https://localhost:8080/",
          "height": 424
        },
        "id": "5cEYZXACkwhg",
        "outputId": "880cd691-9652-46c6-edbf-9b4fe539f012"
      },
      "source": [
        "df_final = pIC50(df_norm)\n",
        "df_final"
      ],
      "execution_count": null,
      "outputs": [
        {
          "output_type": "execute_result",
          "data": {
            "text/html": [
              "<div>\n",
              "<style scoped>\n",
              "    .dataframe tbody tr th:only-of-type {\n",
              "        vertical-align: middle;\n",
              "    }\n",
              "\n",
              "    .dataframe tbody tr th {\n",
              "        vertical-align: top;\n",
              "    }\n",
              "\n",
              "    .dataframe thead th {\n",
              "        text-align: right;\n",
              "    }\n",
              "</style>\n",
              "<table border=\"1\" class=\"dataframe\">\n",
              "  <thead>\n",
              "    <tr style=\"text-align: right;\">\n",
              "      <th></th>\n",
              "      <th>molecule_chembl_id</th>\n",
              "      <th>canonical_smiles</th>\n",
              "      <th>class</th>\n",
              "      <th>pIC50</th>\n",
              "    </tr>\n",
              "  </thead>\n",
              "  <tbody>\n",
              "    <tr>\n",
              "      <th>0</th>\n",
              "      <td>CHEMBL381735</td>\n",
              "      <td>CC[C@H](C)[C@H](NC(=O)OCc1ccccc1)C(=O)N[C@@H](...</td>\n",
              "      <td>active</td>\n",
              "      <td>8.619789</td>\n",
              "    </tr>\n",
              "    <tr>\n",
              "      <th>1</th>\n",
              "      <td>CHEMBL207670</td>\n",
              "      <td>CC[C@H](C)[C@H](NC(=O)OCc1ccccc1)C(=O)N1CCC[C@...</td>\n",
              "      <td>inactive</td>\n",
              "      <td>3.823909</td>\n",
              "    </tr>\n",
              "    <tr>\n",
              "      <th>2</th>\n",
              "      <td>CHEMBL383529</td>\n",
              "      <td>CC(=O)N[C@@H](CCC(=O)OC(C)(C)C)C(=O)N[C@@H](C)...</td>\n",
              "      <td>active</td>\n",
              "      <td>6.585027</td>\n",
              "    </tr>\n",
              "    <tr>\n",
              "      <th>3</th>\n",
              "      <td>CHEMBL207336</td>\n",
              "      <td>CC(C)C[C@@H](/C=C/S(C)(=O)=O)NC(=O)[C@H](C)NC(...</td>\n",
              "      <td>active</td>\n",
              "      <td>7.769551</td>\n",
              "    </tr>\n",
              "    <tr>\n",
              "      <th>4</th>\n",
              "      <td>CHEMBL208015</td>\n",
              "      <td>CC(C)C[C@@H](/C=C/S(C)(=O)=O)NC(=O)[C@H](C)NC(...</td>\n",
              "      <td>active</td>\n",
              "      <td>8.214670</td>\n",
              "    </tr>\n",
              "    <tr>\n",
              "      <th>...</th>\n",
              "      <td>...</td>\n",
              "      <td>...</td>\n",
              "      <td>...</td>\n",
              "      <td>...</td>\n",
              "    </tr>\n",
              "    <tr>\n",
              "      <th>813</th>\n",
              "      <td>CHEMBL4519899</td>\n",
              "      <td>CC(C)C[C@H](NC(=O)[C@H](Cc1ccccc1)NC(=O)[C@H](...</td>\n",
              "      <td>active</td>\n",
              "      <td>8.522879</td>\n",
              "    </tr>\n",
              "    <tr>\n",
              "      <th>814</th>\n",
              "      <td>CHEMBL4555159</td>\n",
              "      <td>CC(C)C[C@H](NC(=O)[C@H](Cc1ccccc1)NC(=O)[C@@H]...</td>\n",
              "      <td>active</td>\n",
              "      <td>8.000000</td>\n",
              "    </tr>\n",
              "    <tr>\n",
              "      <th>815</th>\n",
              "      <td>CHEMBL4646371</td>\n",
              "      <td>CC(=O)NCC(=O)N1CCC[C@H]1C(=O)N[C@@H](Cc1ccccc1...</td>\n",
              "      <td>inactive</td>\n",
              "      <td>5.000000</td>\n",
              "    </tr>\n",
              "    <tr>\n",
              "      <th>816</th>\n",
              "      <td>CHEMBL4649310</td>\n",
              "      <td>CC(C)C[C@H](NC(=O)[C@H](Cc1ccccc1)NC(=O)[C@@H]...</td>\n",
              "      <td>inactive</td>\n",
              "      <td>5.000000</td>\n",
              "    </tr>\n",
              "    <tr>\n",
              "      <th>817</th>\n",
              "      <td>CHEMBL4635132</td>\n",
              "      <td>CC(=O)NCC(=O)N1CCC[C@H]1C(=O)N[C@@H](Cc1ccccc1...</td>\n",
              "      <td>inactive</td>\n",
              "      <td>5.000000</td>\n",
              "    </tr>\n",
              "  </tbody>\n",
              "</table>\n",
              "<p>818 rows × 4 columns</p>\n",
              "</div>"
            ],
            "text/plain": [
              "    molecule_chembl_id  ...     pIC50\n",
              "0         CHEMBL381735  ...  8.619789\n",
              "1         CHEMBL207670  ...  3.823909\n",
              "2         CHEMBL383529  ...  6.585027\n",
              "3         CHEMBL207336  ...  7.769551\n",
              "4         CHEMBL208015  ...  8.214670\n",
              "..                 ...  ...       ...\n",
              "813      CHEMBL4519899  ...  8.522879\n",
              "814      CHEMBL4555159  ...  8.000000\n",
              "815      CHEMBL4646371  ...  5.000000\n",
              "816      CHEMBL4649310  ...  5.000000\n",
              "817      CHEMBL4635132  ...  5.000000\n",
              "\n",
              "[818 rows x 4 columns]"
            ]
          },
          "metadata": {},
          "execution_count": 27
        }
      ]
    },
    {
      "cell_type": "code",
      "metadata": {
        "colab": {
          "base_uri": "https://localhost:8080/"
        },
        "id": "JI7LSj01k3Vo",
        "outputId": "79f78a51-c45c-4163-9002-52fca49d9502"
      },
      "source": [
        "df_final.pIC50.describe()"
      ],
      "execution_count": null,
      "outputs": [
        {
          "output_type": "execute_result",
          "data": {
            "text/plain": [
              "count    818.000000\n",
              "mean       6.542848\n",
              "std        1.487884\n",
              "min        2.148742\n",
              "25%        5.229872\n",
              "50%        6.609971\n",
              "75%        7.769551\n",
              "max       12.698970\n",
              "Name: pIC50, dtype: float64"
            ]
          },
          "metadata": {},
          "execution_count": 28
        }
      ]
    },
    {
      "cell_type": "markdown",
      "metadata": {
        "id": "LySqOn69lBba"
      },
      "source": [
        "Delete intermediate activity"
      ]
    },
    {
      "cell_type": "code",
      "metadata": {
        "colab": {
          "base_uri": "https://localhost:8080/",
          "height": 424
        },
        "id": "UY5Vf1-AlKpp",
        "outputId": "add4a50d-2a91-4629-ee3e-48dacb24b86b"
      },
      "source": [
        "df_act_inac = df_final[df_final['class'] != 'intermediate']\n",
        "df_act_inac"
      ],
      "execution_count": null,
      "outputs": [
        {
          "output_type": "execute_result",
          "data": {
            "text/html": [
              "<div>\n",
              "<style scoped>\n",
              "    .dataframe tbody tr th:only-of-type {\n",
              "        vertical-align: middle;\n",
              "    }\n",
              "\n",
              "    .dataframe tbody tr th {\n",
              "        vertical-align: top;\n",
              "    }\n",
              "\n",
              "    .dataframe thead th {\n",
              "        text-align: right;\n",
              "    }\n",
              "</style>\n",
              "<table border=\"1\" class=\"dataframe\">\n",
              "  <thead>\n",
              "    <tr style=\"text-align: right;\">\n",
              "      <th></th>\n",
              "      <th>molecule_chembl_id</th>\n",
              "      <th>canonical_smiles</th>\n",
              "      <th>class</th>\n",
              "      <th>pIC50</th>\n",
              "    </tr>\n",
              "  </thead>\n",
              "  <tbody>\n",
              "    <tr>\n",
              "      <th>0</th>\n",
              "      <td>CHEMBL381735</td>\n",
              "      <td>CC[C@H](C)[C@H](NC(=O)OCc1ccccc1)C(=O)N[C@@H](...</td>\n",
              "      <td>active</td>\n",
              "      <td>8.619789</td>\n",
              "    </tr>\n",
              "    <tr>\n",
              "      <th>1</th>\n",
              "      <td>CHEMBL207670</td>\n",
              "      <td>CC[C@H](C)[C@H](NC(=O)OCc1ccccc1)C(=O)N1CCC[C@...</td>\n",
              "      <td>inactive</td>\n",
              "      <td>3.823909</td>\n",
              "    </tr>\n",
              "    <tr>\n",
              "      <th>2</th>\n",
              "      <td>CHEMBL383529</td>\n",
              "      <td>CC(=O)N[C@@H](CCC(=O)OC(C)(C)C)C(=O)N[C@@H](C)...</td>\n",
              "      <td>active</td>\n",
              "      <td>6.585027</td>\n",
              "    </tr>\n",
              "    <tr>\n",
              "      <th>3</th>\n",
              "      <td>CHEMBL207336</td>\n",
              "      <td>CC(C)C[C@@H](/C=C/S(C)(=O)=O)NC(=O)[C@H](C)NC(...</td>\n",
              "      <td>active</td>\n",
              "      <td>7.769551</td>\n",
              "    </tr>\n",
              "    <tr>\n",
              "      <th>4</th>\n",
              "      <td>CHEMBL208015</td>\n",
              "      <td>CC(C)C[C@@H](/C=C/S(C)(=O)=O)NC(=O)[C@H](C)NC(...</td>\n",
              "      <td>active</td>\n",
              "      <td>8.214670</td>\n",
              "    </tr>\n",
              "    <tr>\n",
              "      <th>...</th>\n",
              "      <td>...</td>\n",
              "      <td>...</td>\n",
              "      <td>...</td>\n",
              "      <td>...</td>\n",
              "    </tr>\n",
              "    <tr>\n",
              "      <th>813</th>\n",
              "      <td>CHEMBL4519899</td>\n",
              "      <td>CC(C)C[C@H](NC(=O)[C@H](Cc1ccccc1)NC(=O)[C@H](...</td>\n",
              "      <td>active</td>\n",
              "      <td>8.522879</td>\n",
              "    </tr>\n",
              "    <tr>\n",
              "      <th>814</th>\n",
              "      <td>CHEMBL4555159</td>\n",
              "      <td>CC(C)C[C@H](NC(=O)[C@H](Cc1ccccc1)NC(=O)[C@@H]...</td>\n",
              "      <td>active</td>\n",
              "      <td>8.000000</td>\n",
              "    </tr>\n",
              "    <tr>\n",
              "      <th>815</th>\n",
              "      <td>CHEMBL4646371</td>\n",
              "      <td>CC(=O)NCC(=O)N1CCC[C@H]1C(=O)N[C@@H](Cc1ccccc1...</td>\n",
              "      <td>inactive</td>\n",
              "      <td>5.000000</td>\n",
              "    </tr>\n",
              "    <tr>\n",
              "      <th>816</th>\n",
              "      <td>CHEMBL4649310</td>\n",
              "      <td>CC(C)C[C@H](NC(=O)[C@H](Cc1ccccc1)NC(=O)[C@@H]...</td>\n",
              "      <td>inactive</td>\n",
              "      <td>5.000000</td>\n",
              "    </tr>\n",
              "    <tr>\n",
              "      <th>817</th>\n",
              "      <td>CHEMBL4635132</td>\n",
              "      <td>CC(=O)NCC(=O)N1CCC[C@H]1C(=O)N[C@@H](Cc1ccccc1...</td>\n",
              "      <td>inactive</td>\n",
              "      <td>5.000000</td>\n",
              "    </tr>\n",
              "  </tbody>\n",
              "</table>\n",
              "<p>696 rows × 4 columns</p>\n",
              "</div>"
            ],
            "text/plain": [
              "    molecule_chembl_id  ...     pIC50\n",
              "0         CHEMBL381735  ...  8.619789\n",
              "1         CHEMBL207670  ...  3.823909\n",
              "2         CHEMBL383529  ...  6.585027\n",
              "3         CHEMBL207336  ...  7.769551\n",
              "4         CHEMBL208015  ...  8.214670\n",
              "..                 ...  ...       ...\n",
              "813      CHEMBL4519899  ...  8.522879\n",
              "814      CHEMBL4555159  ...  8.000000\n",
              "815      CHEMBL4646371  ...  5.000000\n",
              "816      CHEMBL4649310  ...  5.000000\n",
              "817      CHEMBL4635132  ...  5.000000\n",
              "\n",
              "[696 rows x 4 columns]"
            ]
          },
          "metadata": {},
          "execution_count": 29
        }
      ]
    },
    {
      "cell_type": "code",
      "metadata": {
        "id": "8gdg98ZIlaQW"
      },
      "source": [
        "# saving active and inactive df\n",
        "df_act_inac.to_csv('psmb5_active_inactive_pIC50.csv', index=False)"
      ],
      "execution_count": null,
      "outputs": []
    }
  ]
}