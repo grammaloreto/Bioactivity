{
  "nbformat": 4,
  "nbformat_minor": 0,
  "metadata": {
    "colab": {
      "name": "PSMB5_active_inactive_ligands.ipynb",
      "provenance": []
    },
    "kernelspec": {
      "name": "python3",
      "display_name": "Python 3"
    },
    "language_info": {
      "name": "python"
    }
  },
  "cells": [
    {
      "cell_type": "code",
      "metadata": {
        "id": "IX_b2M-HaGwp"
      },
      "source": [
        "import pandas as pd"
      ],
      "execution_count": null,
      "outputs": []
    },
    {
      "cell_type": "code",
      "metadata": {
        "id": "Ms96gVgpcWjK"
      },
      "source": [
        "# load data\n",
        "df = pd.read_csv('psmb5_first_data.csv')"
      ],
      "execution_count": null,
      "outputs": []
    },
    {
      "cell_type": "code",
      "metadata": {
        "colab": {
          "base_uri": "https://localhost:8080/",
          "height": 424
        },
        "id": "_DnZvkGTcqmM",
        "outputId": "186be330-1cf1-44c2-bbb1-da50b53136d8"
      },
      "source": [
        "df"
      ],
      "execution_count": null,
      "outputs": [
        {
          "output_type": "execute_result",
          "data": {
            "text/html": [
              "<div>\n",
              "<style scoped>\n",
              "    .dataframe tbody tr th:only-of-type {\n",
              "        vertical-align: middle;\n",
              "    }\n",
              "\n",
              "    .dataframe tbody tr th {\n",
              "        vertical-align: top;\n",
              "    }\n",
              "\n",
              "    .dataframe thead th {\n",
              "        text-align: right;\n",
              "    }\n",
              "</style>\n",
              "<table border=\"1\" class=\"dataframe\">\n",
              "  <thead>\n",
              "    <tr style=\"text-align: right;\">\n",
              "      <th></th>\n",
              "      <th>molecule_chembl_id</th>\n",
              "      <th>canonical_smiles</th>\n",
              "      <th>standard_value</th>\n",
              "    </tr>\n",
              "  </thead>\n",
              "  <tbody>\n",
              "    <tr>\n",
              "      <th>0</th>\n",
              "      <td>CHEMBL381735</td>\n",
              "      <td>CC[C@H](C)[C@H](NC(=O)OCc1ccccc1)C(=O)N[C@@H](...</td>\n",
              "      <td>2.4</td>\n",
              "    </tr>\n",
              "    <tr>\n",
              "      <th>1</th>\n",
              "      <td>CHEMBL207670</td>\n",
              "      <td>CC[C@H](C)[C@H](NC(=O)OCc1ccccc1)C(=O)N1CCC[C@...</td>\n",
              "      <td>150000.0</td>\n",
              "    </tr>\n",
              "    <tr>\n",
              "      <th>2</th>\n",
              "      <td>CHEMBL383529</td>\n",
              "      <td>CC(=O)N[C@@H](CCC(=O)OC(C)(C)C)C(=O)N[C@@H](C)...</td>\n",
              "      <td>260.0</td>\n",
              "    </tr>\n",
              "    <tr>\n",
              "      <th>3</th>\n",
              "      <td>CHEMBL207336</td>\n",
              "      <td>CC(C)C[C@@H](/C=C/S(C)(=O)=O)NC(=O)[C@H](C)NC(...</td>\n",
              "      <td>17.0</td>\n",
              "    </tr>\n",
              "    <tr>\n",
              "      <th>4</th>\n",
              "      <td>CHEMBL208015</td>\n",
              "      <td>CC(C)C[C@@H](/C=C/S(C)(=O)=O)NC(=O)[C@H](C)NC(...</td>\n",
              "      <td>6.1</td>\n",
              "    </tr>\n",
              "    <tr>\n",
              "      <th>...</th>\n",
              "      <td>...</td>\n",
              "      <td>...</td>\n",
              "      <td>...</td>\n",
              "    </tr>\n",
              "    <tr>\n",
              "      <th>813</th>\n",
              "      <td>CHEMBL4519899</td>\n",
              "      <td>CC(C)C[C@H](NC(=O)[C@H](Cc1ccccc1)NC(=O)[C@H](...</td>\n",
              "      <td>3.0</td>\n",
              "    </tr>\n",
              "    <tr>\n",
              "      <th>814</th>\n",
              "      <td>CHEMBL4555159</td>\n",
              "      <td>CC(C)C[C@H](NC(=O)[C@H](Cc1ccccc1)NC(=O)[C@@H]...</td>\n",
              "      <td>10.0</td>\n",
              "    </tr>\n",
              "    <tr>\n",
              "      <th>815</th>\n",
              "      <td>CHEMBL4646371</td>\n",
              "      <td>CC(=O)NCC(=O)N1CCC[C@H]1C(=O)N[C@@H](Cc1ccccc1...</td>\n",
              "      <td>10000.0</td>\n",
              "    </tr>\n",
              "    <tr>\n",
              "      <th>816</th>\n",
              "      <td>CHEMBL4649310</td>\n",
              "      <td>CC(C)C[C@H](NC(=O)[C@H](Cc1ccccc1)NC(=O)[C@@H]...</td>\n",
              "      <td>10000.0</td>\n",
              "    </tr>\n",
              "    <tr>\n",
              "      <th>817</th>\n",
              "      <td>CHEMBL4635132</td>\n",
              "      <td>CC(=O)NCC(=O)N1CCC[C@H]1C(=O)N[C@@H](Cc1ccccc1...</td>\n",
              "      <td>10000.0</td>\n",
              "    </tr>\n",
              "  </tbody>\n",
              "</table>\n",
              "<p>818 rows × 3 columns</p>\n",
              "</div>"
            ],
            "text/plain": [
              "    molecule_chembl_id  ... standard_value\n",
              "0         CHEMBL381735  ...            2.4\n",
              "1         CHEMBL207670  ...       150000.0\n",
              "2         CHEMBL383529  ...          260.0\n",
              "3         CHEMBL207336  ...           17.0\n",
              "4         CHEMBL208015  ...            6.1\n",
              "..                 ...  ...            ...\n",
              "813      CHEMBL4519899  ...            3.0\n",
              "814      CHEMBL4555159  ...           10.0\n",
              "815      CHEMBL4646371  ...        10000.0\n",
              "816      CHEMBL4649310  ...        10000.0\n",
              "817      CHEMBL4635132  ...        10000.0\n",
              "\n",
              "[818 rows x 3 columns]"
            ]
          },
          "metadata": {},
          "execution_count": 4
        }
      ]
    },
    {
      "cell_type": "code",
      "metadata": {
        "id": "qz-vNR2pcySB"
      },
      "source": [
        "# Function to classify bioactivity in ligands (Active, Inactive, Intermediate)\n",
        "bioactivity_threshold = []\n",
        "for i in df.standard_value:\n",
        "  if float(i) >= 10000:\n",
        "    bioactivity_threshold.append(\"inactive\")\n",
        "  elif float(i) <= 1000:\n",
        "    bioactivity_threshold.append(\"active\")\n",
        "  else:\n",
        "    bioactivity_threshold.append(\"intermediate\")"
      ],
      "execution_count": null,
      "outputs": []
    },
    {
      "cell_type": "code",
      "metadata": {
        "colab": {
          "base_uri": "https://localhost:8080/",
          "height": 424
        },
        "id": "aKpSqNIUdPpM",
        "outputId": "5776f142-24a0-4451-8917-a862fb4c4265"
      },
      "source": [
        "# adding a new column called class (with new categories) to dataframe\n",
        "bioactivity_class = pd.Series(bioactivity_threshold, name='class')\n",
        "dfc = pd.concat([df, bioactivity_class], axis=1)\n",
        "dfc"
      ],
      "execution_count": null,
      "outputs": [
        {
          "output_type": "execute_result",
          "data": {
            "text/html": [
              "<div>\n",
              "<style scoped>\n",
              "    .dataframe tbody tr th:only-of-type {\n",
              "        vertical-align: middle;\n",
              "    }\n",
              "\n",
              "    .dataframe tbody tr th {\n",
              "        vertical-align: top;\n",
              "    }\n",
              "\n",
              "    .dataframe thead th {\n",
              "        text-align: right;\n",
              "    }\n",
              "</style>\n",
              "<table border=\"1\" class=\"dataframe\">\n",
              "  <thead>\n",
              "    <tr style=\"text-align: right;\">\n",
              "      <th></th>\n",
              "      <th>molecule_chembl_id</th>\n",
              "      <th>canonical_smiles</th>\n",
              "      <th>standard_value</th>\n",
              "      <th>class</th>\n",
              "    </tr>\n",
              "  </thead>\n",
              "  <tbody>\n",
              "    <tr>\n",
              "      <th>0</th>\n",
              "      <td>CHEMBL381735</td>\n",
              "      <td>CC[C@H](C)[C@H](NC(=O)OCc1ccccc1)C(=O)N[C@@H](...</td>\n",
              "      <td>2.4</td>\n",
              "      <td>active</td>\n",
              "    </tr>\n",
              "    <tr>\n",
              "      <th>1</th>\n",
              "      <td>CHEMBL207670</td>\n",
              "      <td>CC[C@H](C)[C@H](NC(=O)OCc1ccccc1)C(=O)N1CCC[C@...</td>\n",
              "      <td>150000.0</td>\n",
              "      <td>inactive</td>\n",
              "    </tr>\n",
              "    <tr>\n",
              "      <th>2</th>\n",
              "      <td>CHEMBL383529</td>\n",
              "      <td>CC(=O)N[C@@H](CCC(=O)OC(C)(C)C)C(=O)N[C@@H](C)...</td>\n",
              "      <td>260.0</td>\n",
              "      <td>active</td>\n",
              "    </tr>\n",
              "    <tr>\n",
              "      <th>3</th>\n",
              "      <td>CHEMBL207336</td>\n",
              "      <td>CC(C)C[C@@H](/C=C/S(C)(=O)=O)NC(=O)[C@H](C)NC(...</td>\n",
              "      <td>17.0</td>\n",
              "      <td>active</td>\n",
              "    </tr>\n",
              "    <tr>\n",
              "      <th>4</th>\n",
              "      <td>CHEMBL208015</td>\n",
              "      <td>CC(C)C[C@@H](/C=C/S(C)(=O)=O)NC(=O)[C@H](C)NC(...</td>\n",
              "      <td>6.1</td>\n",
              "      <td>active</td>\n",
              "    </tr>\n",
              "    <tr>\n",
              "      <th>...</th>\n",
              "      <td>...</td>\n",
              "      <td>...</td>\n",
              "      <td>...</td>\n",
              "      <td>...</td>\n",
              "    </tr>\n",
              "    <tr>\n",
              "      <th>813</th>\n",
              "      <td>CHEMBL4519899</td>\n",
              "      <td>CC(C)C[C@H](NC(=O)[C@H](Cc1ccccc1)NC(=O)[C@H](...</td>\n",
              "      <td>3.0</td>\n",
              "      <td>active</td>\n",
              "    </tr>\n",
              "    <tr>\n",
              "      <th>814</th>\n",
              "      <td>CHEMBL4555159</td>\n",
              "      <td>CC(C)C[C@H](NC(=O)[C@H](Cc1ccccc1)NC(=O)[C@@H]...</td>\n",
              "      <td>10.0</td>\n",
              "      <td>active</td>\n",
              "    </tr>\n",
              "    <tr>\n",
              "      <th>815</th>\n",
              "      <td>CHEMBL4646371</td>\n",
              "      <td>CC(=O)NCC(=O)N1CCC[C@H]1C(=O)N[C@@H](Cc1ccccc1...</td>\n",
              "      <td>10000.0</td>\n",
              "      <td>inactive</td>\n",
              "    </tr>\n",
              "    <tr>\n",
              "      <th>816</th>\n",
              "      <td>CHEMBL4649310</td>\n",
              "      <td>CC(C)C[C@H](NC(=O)[C@H](Cc1ccccc1)NC(=O)[C@@H]...</td>\n",
              "      <td>10000.0</td>\n",
              "      <td>inactive</td>\n",
              "    </tr>\n",
              "    <tr>\n",
              "      <th>817</th>\n",
              "      <td>CHEMBL4635132</td>\n",
              "      <td>CC(=O)NCC(=O)N1CCC[C@H]1C(=O)N[C@@H](Cc1ccccc1...</td>\n",
              "      <td>10000.0</td>\n",
              "      <td>inactive</td>\n",
              "    </tr>\n",
              "  </tbody>\n",
              "</table>\n",
              "<p>818 rows × 4 columns</p>\n",
              "</div>"
            ],
            "text/plain": [
              "    molecule_chembl_id  ...     class\n",
              "0         CHEMBL381735  ...    active\n",
              "1         CHEMBL207670  ...  inactive\n",
              "2         CHEMBL383529  ...    active\n",
              "3         CHEMBL207336  ...    active\n",
              "4         CHEMBL208015  ...    active\n",
              "..                 ...  ...       ...\n",
              "813      CHEMBL4519899  ...    active\n",
              "814      CHEMBL4555159  ...    active\n",
              "815      CHEMBL4646371  ...  inactive\n",
              "816      CHEMBL4649310  ...  inactive\n",
              "817      CHEMBL4635132  ...  inactive\n",
              "\n",
              "[818 rows x 4 columns]"
            ]
          },
          "metadata": {},
          "execution_count": 6
        }
      ]
    },
    {
      "cell_type": "code",
      "metadata": {
        "id": "GiH7moayeBXo"
      },
      "source": [
        "# saving dataframe for Lipinski rule of five analysis, IC50 transformation, ML model among others\n",
        "dfc.to_csv('psmb5_class_bioactivity.csv', index=False)"
      ],
      "execution_count": null,
      "outputs": []
    }
  ]
}